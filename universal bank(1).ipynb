{
 "cells": [
  {
   "cell_type": "code",
   "execution_count": 213,
   "id": "4f98087a",
   "metadata": {},
   "outputs": [],
   "source": [
    "#import the required librarys\n",
    "import numpy as np\n",
    "import pandas as pd\n",
    "import matplotlib as plt\n",
    "import seaborn as sns\n",
    "from sklearn import preprocessing\n",
    "from sklearn.neighbors import KNeighborsClassifier\n",
    "from sklearn.model_selection import train_test_split\n",
    "from sklearn.metrics import recall_score\n",
    "from sklearn import metrics\n",
    "from sklearn.metrics import accuracy_score,confusion_matrix\n",
    "from sklearn.tree import DecisionTreeRegressor"
   ]
  },
  {
   "cell_type": "code",
   "execution_count": 214,
   "id": "c7452972",
   "metadata": {},
   "outputs": [],
   "source": [
    "# Path directory for the file\n",
    "dataset_file_path =r'I:\\Rworkshop\\UniversalBank.csv'"
   ]
  },
  {
   "cell_type": "code",
   "execution_count": 215,
   "id": "9502ecd5",
   "metadata": {},
   "outputs": [],
   "source": [
    "# Reading the csv file into a  pandas Data frame\n",
    "ubdata_set=pd.read_csv(dataset_file_path)\n",
    "ubdata_set.rename(columns={\"ZIP Code\":'ZIP_Code',\"Personal Loan\":\"Personal_Loan\"},inplace = True)"
   ]
  },
  {
   "cell_type": "code",
   "execution_count": 216,
   "id": "958744b4",
   "metadata": {},
   "outputs": [
    {
     "data": {
      "text/html": [
       "<div>\n",
       "<style scoped>\n",
       "    .dataframe tbody tr th:only-of-type {\n",
       "        vertical-align: middle;\n",
       "    }\n",
       "\n",
       "    .dataframe tbody tr th {\n",
       "        vertical-align: top;\n",
       "    }\n",
       "\n",
       "    .dataframe thead th {\n",
       "        text-align: right;\n",
       "    }\n",
       "</style>\n",
       "<table border=\"1\" class=\"dataframe\">\n",
       "  <thead>\n",
       "    <tr style=\"text-align: right;\">\n",
       "      <th></th>\n",
       "      <th>ID</th>\n",
       "      <th>Age</th>\n",
       "      <th>Experience</th>\n",
       "      <th>Income</th>\n",
       "      <th>ZIP_Code</th>\n",
       "      <th>Family</th>\n",
       "      <th>CCAvg</th>\n",
       "      <th>Education</th>\n",
       "      <th>Mortgage</th>\n",
       "      <th>Personal_Loan</th>\n",
       "      <th>Securities Account</th>\n",
       "      <th>CD Account</th>\n",
       "      <th>Online</th>\n",
       "      <th>CreditCard</th>\n",
       "    </tr>\n",
       "  </thead>\n",
       "  <tbody>\n",
       "    <tr>\n",
       "      <th>count</th>\n",
       "      <td>5000.000000</td>\n",
       "      <td>5000.000000</td>\n",
       "      <td>5000.000000</td>\n",
       "      <td>5000.000000</td>\n",
       "      <td>5000.000000</td>\n",
       "      <td>5000.000000</td>\n",
       "      <td>5000.000000</td>\n",
       "      <td>5000.000000</td>\n",
       "      <td>5000.000000</td>\n",
       "      <td>5000.000000</td>\n",
       "      <td>5000.000000</td>\n",
       "      <td>5000.00000</td>\n",
       "      <td>5000.000000</td>\n",
       "      <td>5000.000000</td>\n",
       "    </tr>\n",
       "    <tr>\n",
       "      <th>mean</th>\n",
       "      <td>2500.500000</td>\n",
       "      <td>45.338400</td>\n",
       "      <td>20.104600</td>\n",
       "      <td>73.774200</td>\n",
       "      <td>93152.503000</td>\n",
       "      <td>2.396400</td>\n",
       "      <td>1.937938</td>\n",
       "      <td>1.881000</td>\n",
       "      <td>56.498800</td>\n",
       "      <td>0.096000</td>\n",
       "      <td>0.104400</td>\n",
       "      <td>0.06040</td>\n",
       "      <td>0.596800</td>\n",
       "      <td>0.294000</td>\n",
       "    </tr>\n",
       "    <tr>\n",
       "      <th>std</th>\n",
       "      <td>1443.520003</td>\n",
       "      <td>11.463166</td>\n",
       "      <td>11.467954</td>\n",
       "      <td>46.033729</td>\n",
       "      <td>2121.852197</td>\n",
       "      <td>1.147663</td>\n",
       "      <td>1.747659</td>\n",
       "      <td>0.839869</td>\n",
       "      <td>101.713802</td>\n",
       "      <td>0.294621</td>\n",
       "      <td>0.305809</td>\n",
       "      <td>0.23825</td>\n",
       "      <td>0.490589</td>\n",
       "      <td>0.455637</td>\n",
       "    </tr>\n",
       "    <tr>\n",
       "      <th>min</th>\n",
       "      <td>1.000000</td>\n",
       "      <td>23.000000</td>\n",
       "      <td>-3.000000</td>\n",
       "      <td>8.000000</td>\n",
       "      <td>9307.000000</td>\n",
       "      <td>1.000000</td>\n",
       "      <td>0.000000</td>\n",
       "      <td>1.000000</td>\n",
       "      <td>0.000000</td>\n",
       "      <td>0.000000</td>\n",
       "      <td>0.000000</td>\n",
       "      <td>0.00000</td>\n",
       "      <td>0.000000</td>\n",
       "      <td>0.000000</td>\n",
       "    </tr>\n",
       "    <tr>\n",
       "      <th>25%</th>\n",
       "      <td>1250.750000</td>\n",
       "      <td>35.000000</td>\n",
       "      <td>10.000000</td>\n",
       "      <td>39.000000</td>\n",
       "      <td>91911.000000</td>\n",
       "      <td>1.000000</td>\n",
       "      <td>0.700000</td>\n",
       "      <td>1.000000</td>\n",
       "      <td>0.000000</td>\n",
       "      <td>0.000000</td>\n",
       "      <td>0.000000</td>\n",
       "      <td>0.00000</td>\n",
       "      <td>0.000000</td>\n",
       "      <td>0.000000</td>\n",
       "    </tr>\n",
       "    <tr>\n",
       "      <th>50%</th>\n",
       "      <td>2500.500000</td>\n",
       "      <td>45.000000</td>\n",
       "      <td>20.000000</td>\n",
       "      <td>64.000000</td>\n",
       "      <td>93437.000000</td>\n",
       "      <td>2.000000</td>\n",
       "      <td>1.500000</td>\n",
       "      <td>2.000000</td>\n",
       "      <td>0.000000</td>\n",
       "      <td>0.000000</td>\n",
       "      <td>0.000000</td>\n",
       "      <td>0.00000</td>\n",
       "      <td>1.000000</td>\n",
       "      <td>0.000000</td>\n",
       "    </tr>\n",
       "    <tr>\n",
       "      <th>75%</th>\n",
       "      <td>3750.250000</td>\n",
       "      <td>55.000000</td>\n",
       "      <td>30.000000</td>\n",
       "      <td>98.000000</td>\n",
       "      <td>94608.000000</td>\n",
       "      <td>3.000000</td>\n",
       "      <td>2.500000</td>\n",
       "      <td>3.000000</td>\n",
       "      <td>101.000000</td>\n",
       "      <td>0.000000</td>\n",
       "      <td>0.000000</td>\n",
       "      <td>0.00000</td>\n",
       "      <td>1.000000</td>\n",
       "      <td>1.000000</td>\n",
       "    </tr>\n",
       "    <tr>\n",
       "      <th>max</th>\n",
       "      <td>5000.000000</td>\n",
       "      <td>67.000000</td>\n",
       "      <td>43.000000</td>\n",
       "      <td>224.000000</td>\n",
       "      <td>96651.000000</td>\n",
       "      <td>4.000000</td>\n",
       "      <td>10.000000</td>\n",
       "      <td>3.000000</td>\n",
       "      <td>635.000000</td>\n",
       "      <td>1.000000</td>\n",
       "      <td>1.000000</td>\n",
       "      <td>1.00000</td>\n",
       "      <td>1.000000</td>\n",
       "      <td>1.000000</td>\n",
       "    </tr>\n",
       "  </tbody>\n",
       "</table>\n",
       "</div>"
      ],
      "text/plain": [
       "                ID          Age   Experience       Income      ZIP_Code  \\\n",
       "count  5000.000000  5000.000000  5000.000000  5000.000000   5000.000000   \n",
       "mean   2500.500000    45.338400    20.104600    73.774200  93152.503000   \n",
       "std    1443.520003    11.463166    11.467954    46.033729   2121.852197   \n",
       "min       1.000000    23.000000    -3.000000     8.000000   9307.000000   \n",
       "25%    1250.750000    35.000000    10.000000    39.000000  91911.000000   \n",
       "50%    2500.500000    45.000000    20.000000    64.000000  93437.000000   \n",
       "75%    3750.250000    55.000000    30.000000    98.000000  94608.000000   \n",
       "max    5000.000000    67.000000    43.000000   224.000000  96651.000000   \n",
       "\n",
       "            Family        CCAvg    Education     Mortgage  Personal_Loan  \\\n",
       "count  5000.000000  5000.000000  5000.000000  5000.000000    5000.000000   \n",
       "mean      2.396400     1.937938     1.881000    56.498800       0.096000   \n",
       "std       1.147663     1.747659     0.839869   101.713802       0.294621   \n",
       "min       1.000000     0.000000     1.000000     0.000000       0.000000   \n",
       "25%       1.000000     0.700000     1.000000     0.000000       0.000000   \n",
       "50%       2.000000     1.500000     2.000000     0.000000       0.000000   \n",
       "75%       3.000000     2.500000     3.000000   101.000000       0.000000   \n",
       "max       4.000000    10.000000     3.000000   635.000000       1.000000   \n",
       "\n",
       "       Securities Account  CD Account       Online   CreditCard  \n",
       "count         5000.000000  5000.00000  5000.000000  5000.000000  \n",
       "mean             0.104400     0.06040     0.596800     0.294000  \n",
       "std              0.305809     0.23825     0.490589     0.455637  \n",
       "min              0.000000     0.00000     0.000000     0.000000  \n",
       "25%              0.000000     0.00000     0.000000     0.000000  \n",
       "50%              0.000000     0.00000     1.000000     0.000000  \n",
       "75%              0.000000     0.00000     1.000000     1.000000  \n",
       "max              1.000000     1.00000     1.000000     1.000000  "
      ]
     },
     "execution_count": 216,
     "metadata": {},
     "output_type": "execute_result"
    }
   ],
   "source": [
    "#displaying descriptive data of attributes/:\n",
    "ubdata_set.head()\n",
    "ubdata_set.columns\n",
    "ubdata_set.shape\n",
    "ubdata_set.describe()"
   ]
  },
  {
   "cell_type": "code",
   "execution_count": 217,
   "id": "7232e9bd",
   "metadata": {},
   "outputs": [],
   "source": [
    "# Removing the unwanted columns\n",
    "ubdata_set2=ubdata_set.drop({\"ZIP_Code\",\"ID\"},axis=1)"
   ]
  },
  {
   "cell_type": "code",
   "execution_count": 218,
   "id": "cb1211bc",
   "metadata": {},
   "outputs": [
    {
     "data": {
      "text/plain": [
       "ID                    0\n",
       "Age                   0\n",
       "Experience            0\n",
       "Income                0\n",
       "ZIP_Code              0\n",
       "Family                0\n",
       "CCAvg                 0\n",
       "Education             0\n",
       "Mortgage              0\n",
       "Personal_Loan         0\n",
       "Securities Account    0\n",
       "CD Account            0\n",
       "Online                0\n",
       "CreditCard            0\n",
       "dtype: int64"
      ]
     },
     "execution_count": 218,
     "metadata": {},
     "output_type": "execute_result"
    }
   ],
   "source": [
    "# Searching for null values\n",
    "ubdata_set.isna().sum()\n"
   ]
  },
  {
   "cell_type": "code",
   "execution_count": 219,
   "id": "820b0408",
   "metadata": {},
   "outputs": [],
   "source": [
    "#COPYING THE VARIABLES\n",
    "ubdata_set3= ubdata_set.copy()\n",
    "ubdata_set3 = pd.get_dummies(ubdata_set3,columns = ['Education'])"
   ]
  },
  {
   "cell_type": "code",
   "execution_count": 220,
   "id": "4dcd2246",
   "metadata": {},
   "outputs": [
    {
     "name": "stdout",
     "output_type": "stream",
     "text": [
      "[1 1 0 ... 0 0 1]\n"
     ]
    }
   ],
   "source": [
    "# spliting the data\n",
    "predictor =np.array(ubdata_set3.iloc[:,1:11]) \n",
    "target = np.array(ubdata_set3.Personal_Loan)\n",
    "x_train, x_validation , y_train, y_validation = train_test_split(predictor,target, test_size=0.4,random_state=24)\n",
    "print (y_train)"
   ]
  },
  {
   "cell_type": "code",
   "execution_count": 221,
   "id": "5f82fed5",
   "metadata": {},
   "outputs": [
    {
     "name": "stdout",
     "output_type": "stream",
     "text": [
      "<class 'numpy.ndarray'>\n",
      "Index(['Age', 'Experience', 'Income', 'Family', 'CCAvg', 'Education',\n",
      "       'Mortgage', 'Personal_Loan', 'Securities Account', 'CD Account',\n",
      "       'Online', 'CreditCard'],\n",
      "      dtype='object')\n"
     ]
    },
    {
     "data": {
      "text/html": [
       "<div>\n",
       "<style scoped>\n",
       "    .dataframe tbody tr th:only-of-type {\n",
       "        vertical-align: middle;\n",
       "    }\n",
       "\n",
       "    .dataframe tbody tr th {\n",
       "        vertical-align: top;\n",
       "    }\n",
       "\n",
       "    .dataframe thead th {\n",
       "        text-align: right;\n",
       "    }\n",
       "</style>\n",
       "<table border=\"1\" class=\"dataframe\">\n",
       "  <thead>\n",
       "    <tr style=\"text-align: right;\">\n",
       "      <th></th>\n",
       "      <th>ID</th>\n",
       "      <th>Age</th>\n",
       "      <th>Experience</th>\n",
       "      <th>Income</th>\n",
       "      <th>ZIP_Code</th>\n",
       "      <th>Family</th>\n",
       "      <th>CCAvg</th>\n",
       "      <th>Mortgage</th>\n",
       "      <th>Personal_Loan</th>\n",
       "      <th>Securities Account</th>\n",
       "      <th>CD Account</th>\n",
       "      <th>Online</th>\n",
       "      <th>CreditCard</th>\n",
       "      <th>Education_1</th>\n",
       "      <th>Education_2</th>\n",
       "      <th>Education_3</th>\n",
       "    </tr>\n",
       "  </thead>\n",
       "  <tbody>\n",
       "    <tr>\n",
       "      <th>count</th>\n",
       "      <td>5000.000000</td>\n",
       "      <td>5000.000000</td>\n",
       "      <td>5000.000000</td>\n",
       "      <td>5000.000000</td>\n",
       "      <td>5000.000000</td>\n",
       "      <td>5000.000000</td>\n",
       "      <td>5000.000000</td>\n",
       "      <td>5000.000000</td>\n",
       "      <td>5000.000000</td>\n",
       "      <td>5000.000000</td>\n",
       "      <td>5.000000e+03</td>\n",
       "      <td>5000.000000</td>\n",
       "      <td>5000.000000</td>\n",
       "      <td>5000.000000</td>\n",
       "      <td>5000.000000</td>\n",
       "      <td>5000.000000</td>\n",
       "    </tr>\n",
       "    <tr>\n",
       "      <th>mean</th>\n",
       "      <td>0.026835</td>\n",
       "      <td>0.000488</td>\n",
       "      <td>0.000216</td>\n",
       "      <td>0.000792</td>\n",
       "      <td>0.999518</td>\n",
       "      <td>0.000026</td>\n",
       "      <td>0.000021</td>\n",
       "      <td>0.000606</td>\n",
       "      <td>0.000001</td>\n",
       "      <td>0.000001</td>\n",
       "      <td>6.471612e-07</td>\n",
       "      <td>0.000006</td>\n",
       "      <td>0.000003</td>\n",
       "      <td>0.000004</td>\n",
       "      <td>0.000003</td>\n",
       "      <td>0.000003</td>\n",
       "    </tr>\n",
       "    <tr>\n",
       "      <th>std</th>\n",
       "      <td>0.015489</td>\n",
       "      <td>0.000142</td>\n",
       "      <td>0.000128</td>\n",
       "      <td>0.000495</td>\n",
       "      <td>0.000430</td>\n",
       "      <td>0.000014</td>\n",
       "      <td>0.000019</td>\n",
       "      <td>0.001092</td>\n",
       "      <td>0.000003</td>\n",
       "      <td>0.000003</td>\n",
       "      <td>2.553238e-06</td>\n",
       "      <td>0.000005</td>\n",
       "      <td>0.000005</td>\n",
       "      <td>0.000005</td>\n",
       "      <td>0.000005</td>\n",
       "      <td>0.000005</td>\n",
       "    </tr>\n",
       "    <tr>\n",
       "      <th>min</th>\n",
       "      <td>0.000011</td>\n",
       "      <td>0.000241</td>\n",
       "      <td>-0.000033</td>\n",
       "      <td>0.000084</td>\n",
       "      <td>0.998462</td>\n",
       "      <td>0.000010</td>\n",
       "      <td>0.000000</td>\n",
       "      <td>0.000000</td>\n",
       "      <td>0.000000</td>\n",
       "      <td>0.000000</td>\n",
       "      <td>0.000000e+00</td>\n",
       "      <td>0.000000</td>\n",
       "      <td>0.000000</td>\n",
       "      <td>0.000000</td>\n",
       "      <td>0.000000</td>\n",
       "      <td>0.000000</td>\n",
       "    </tr>\n",
       "    <tr>\n",
       "      <th>25%</th>\n",
       "      <td>0.013412</td>\n",
       "      <td>0.000380</td>\n",
       "      <td>0.000108</td>\n",
       "      <td>0.000416</td>\n",
       "      <td>0.999190</td>\n",
       "      <td>0.000011</td>\n",
       "      <td>0.000007</td>\n",
       "      <td>0.000000</td>\n",
       "      <td>0.000000</td>\n",
       "      <td>0.000000</td>\n",
       "      <td>0.000000e+00</td>\n",
       "      <td>0.000000</td>\n",
       "      <td>0.000000</td>\n",
       "      <td>0.000000</td>\n",
       "      <td>0.000000</td>\n",
       "      <td>0.000000</td>\n",
       "    </tr>\n",
       "    <tr>\n",
       "      <th>50%</th>\n",
       "      <td>0.026773</td>\n",
       "      <td>0.000487</td>\n",
       "      <td>0.000217</td>\n",
       "      <td>0.000680</td>\n",
       "      <td>0.999640</td>\n",
       "      <td>0.000022</td>\n",
       "      <td>0.000017</td>\n",
       "      <td>0.000000</td>\n",
       "      <td>0.000000</td>\n",
       "      <td>0.000000</td>\n",
       "      <td>0.000000e+00</td>\n",
       "      <td>0.000011</td>\n",
       "      <td>0.000000</td>\n",
       "      <td>0.000000</td>\n",
       "      <td>0.000000</td>\n",
       "      <td>0.000000</td>\n",
       "    </tr>\n",
       "    <tr>\n",
       "      <th>75%</th>\n",
       "      <td>0.040211</td>\n",
       "      <td>0.000592</td>\n",
       "      <td>0.000319</td>\n",
       "      <td>0.001054</td>\n",
       "      <td>0.999908</td>\n",
       "      <td>0.000033</td>\n",
       "      <td>0.000027</td>\n",
       "      <td>0.001081</td>\n",
       "      <td>0.000000</td>\n",
       "      <td>0.000000</td>\n",
       "      <td>0.000000e+00</td>\n",
       "      <td>0.000011</td>\n",
       "      <td>0.000011</td>\n",
       "      <td>0.000011</td>\n",
       "      <td>0.000011</td>\n",
       "      <td>0.000011</td>\n",
       "    </tr>\n",
       "    <tr>\n",
       "      <th>max</th>\n",
       "      <td>0.055438</td>\n",
       "      <td>0.005475</td>\n",
       "      <td>0.002684</td>\n",
       "      <td>0.002382</td>\n",
       "      <td>1.000000</td>\n",
       "      <td>0.000429</td>\n",
       "      <td>0.000109</td>\n",
       "      <td>0.006916</td>\n",
       "      <td>0.000011</td>\n",
       "      <td>0.000011</td>\n",
       "      <td>1.110834e-05</td>\n",
       "      <td>0.000107</td>\n",
       "      <td>0.000107</td>\n",
       "      <td>0.000011</td>\n",
       "      <td>0.000011</td>\n",
       "      <td>0.000107</td>\n",
       "    </tr>\n",
       "  </tbody>\n",
       "</table>\n",
       "</div>"
      ],
      "text/plain": [
       "                ID          Age   Experience       Income     ZIP_Code  \\\n",
       "count  5000.000000  5000.000000  5000.000000  5000.000000  5000.000000   \n",
       "mean      0.026835     0.000488     0.000216     0.000792     0.999518   \n",
       "std       0.015489     0.000142     0.000128     0.000495     0.000430   \n",
       "min       0.000011     0.000241    -0.000033     0.000084     0.998462   \n",
       "25%       0.013412     0.000380     0.000108     0.000416     0.999190   \n",
       "50%       0.026773     0.000487     0.000217     0.000680     0.999640   \n",
       "75%       0.040211     0.000592     0.000319     0.001054     0.999908   \n",
       "max       0.055438     0.005475     0.002684     0.002382     1.000000   \n",
       "\n",
       "            Family        CCAvg     Mortgage  Personal_Loan  \\\n",
       "count  5000.000000  5000.000000  5000.000000    5000.000000   \n",
       "mean      0.000026     0.000021     0.000606       0.000001   \n",
       "std       0.000014     0.000019     0.001092       0.000003   \n",
       "min       0.000010     0.000000     0.000000       0.000000   \n",
       "25%       0.000011     0.000007     0.000000       0.000000   \n",
       "50%       0.000022     0.000017     0.000000       0.000000   \n",
       "75%       0.000033     0.000027     0.001081       0.000000   \n",
       "max       0.000429     0.000109     0.006916       0.000011   \n",
       "\n",
       "       Securities Account    CD Account       Online   CreditCard  \\\n",
       "count         5000.000000  5.000000e+03  5000.000000  5000.000000   \n",
       "mean             0.000001  6.471612e-07     0.000006     0.000003   \n",
       "std              0.000003  2.553238e-06     0.000005     0.000005   \n",
       "min              0.000000  0.000000e+00     0.000000     0.000000   \n",
       "25%              0.000000  0.000000e+00     0.000000     0.000000   \n",
       "50%              0.000000  0.000000e+00     0.000011     0.000000   \n",
       "75%              0.000000  0.000000e+00     0.000011     0.000011   \n",
       "max              0.000011  1.110834e-05     0.000107     0.000107   \n",
       "\n",
       "       Education_1  Education_2  Education_3  \n",
       "count  5000.000000  5000.000000  5000.000000  \n",
       "mean      0.000004     0.000003     0.000003  \n",
       "std       0.000005     0.000005     0.000005  \n",
       "min       0.000000     0.000000     0.000000  \n",
       "25%       0.000000     0.000000     0.000000  \n",
       "50%       0.000000     0.000000     0.000000  \n",
       "75%       0.000011     0.000011     0.000011  \n",
       "max       0.000011     0.000011     0.000107  "
      ]
     },
     "execution_count": 221,
     "metadata": {},
     "output_type": "execute_result"
    }
   ],
   "source": [
    "#Normalising the data\n",
    "dfnormalize= preprocessing.normalize(ubdata_set3)\n",
    "print(type(dfnormalize))\n",
    "print(ubdata_set2.columns)\n",
    "normal_df=pd.DataFrame(dfnormalize, columns=ubdata_set3.columns)\n",
    "normal_df.describe()"
   ]
  },
  {
   "cell_type": "code",
   "execution_count": 222,
   "id": "0508f419",
   "metadata": {},
   "outputs": [
    {
     "data": {
      "text/plain": [
       "KNeighborsClassifier(n_neighbors=7)"
      ]
     },
     "execution_count": 222,
     "metadata": {},
     "output_type": "execute_result"
    }
   ],
   "source": [
    "#giving k=7\n",
    "knn = KNeighborsClassifier(n_neighbors=7)\n",
    "knn.fit(x_train,y_train)"
   ]
  },
  {
   "cell_type": "code",
   "execution_count": 223,
   "id": "0e42fc0a",
   "metadata": {},
   "outputs": [],
   "source": [
    "# predicting and validating\n",
    "pred_validation = knn.predict(x_validation)\n",
    "pred_train = knn.predict(x_train)"
   ]
  },
  {
   "cell_type": "code",
   "execution_count": 224,
   "id": "080294d2",
   "metadata": {},
   "outputs": [
    {
     "data": {
      "text/plain": [
       "90.35"
      ]
     },
     "execution_count": 224,
     "metadata": {},
     "output_type": "execute_result"
    }
   ],
   "source": [
    "# finding accuracy for the model k=7\n",
    "accuracy_score = accuracy_score(y_validation, pred_validation) * 100\n",
    "accuracy_score"
   ]
  },
  {
   "cell_type": "code",
   "execution_count": 225,
   "id": "1e7aabcd",
   "metadata": {},
   "outputs": [],
   "source": [
    "#Testing the data\n",
    "test_data =  pd.DataFrame({ 'Age':40, 'Experience':10, 'Income':84, 'Family':2, 'CCAvg':2,\n",
    "                           'Education':[0,1,0], 'Mortgage':0, 'Securities Account':0,'CD Account':0,\n",
    "                           'Online':1, 'CreditCard':1})"
   ]
  },
  {
   "cell_type": "code",
   "execution_count": 249,
   "id": "ef5569d4",
   "metadata": {},
   "outputs": [
    {
     "name": "stdout",
     "output_type": "stream",
     "text": [
      "[0 0 0 ... 0 0 0]\n"
     ]
    }
   ],
   "source": [
    "#Normalizing the data\n",
    "testdata2= preprocessing.normalize(test_data)\n",
    "normaltest=pd.DataFrame(testdata2)\n",
    "normaltest.describe()\n",
    "normaltest.columns =['Age', 'Experience', 'Income', 'Family', 'CCAvg', 'Education','Mortgage', 'Securities Account', 'CD Account', 'Online', 'CreditCard']\n",
    "#predicting the test case1\n",
    "test_predict1 = classifier.predict(x_train)\n",
    "print(test_predict1)"
   ]
  },
  {
   "cell_type": "code",
   "execution_count": 227,
   "id": "5f40ffdf",
   "metadata": {},
   "outputs": [
    {
     "data": {
      "text/plain": [
       "[<matplotlib.lines.Line2D at 0x2736cc6de50>]"
      ]
     },
     "execution_count": 227,
     "metadata": {},
     "output_type": "execute_result"
    },
    {
     "data": {
      "image/png": "[encoded data removed]",
      "text/plain": [
       "<Figure size 432x288 with 1 Axes>"
      ]
     },
     "metadata": {
      "needs_background": "light"
     },
     "output_type": "display_data"
    }
   ],
   "source": [
    "#finding the best k  and worst k using graph\n",
    "\n",
    "acc = []\n",
    "for i in range(1,30,2):\n",
    "    knn = KNeighborsClassifier(n_neighbors=i).fit(x_train,y_train)\n",
    "    test_acc = np.mean(knn.predict(x_validation) == y_validation)\n",
    "    train_acc = np.mean(knn.predict(x_train) == y_train)\n",
    "    acc.append([test_acc,train_acc])\n",
    "    #print(acc)\n",
    "\n",
    "\n",
    "import matplotlib.pyplot as plt\n",
    "plt.plot(np.arange(1,30,2),[i[0] for i in acc],\"ro-\")\n",
    "plt.plot(np.arange(1,30,2),[i[1] for i in acc],\"bo-\")"
   ]
  },
  {
   "cell_type": "code",
   "execution_count": 228,
   "id": "63d3c1bd",
   "metadata": {},
   "outputs": [
    {
     "data": {
      "text/plain": [
       "array([[2674,   37],\n",
       "       [ 203,   86]], dtype=int64)"
      ]
     },
     "execution_count": 228,
     "metadata": {},
     "output_type": "execute_result"
    }
   ],
   "source": [
    "#confusion matrix\n",
    "knn = KNeighborsClassifier(n_neighbors=17)\n",
    "knn.fit(x_train,y_train)\n",
    "\n",
    "\n",
    "confusion_matrix(y_train, pred_train)\n"
   ]
  },
  {
   "cell_type": "code",
   "execution_count": 245,
   "id": "126a2ea4",
   "metadata": {},
   "outputs": [
    {
     "name": "stdout",
     "output_type": "stream",
     "text": [
      "[0 0 0 ... 0 0 0]\n"
     ]
    }
   ],
   "source": [
    "# testing the data2\n",
    "from sklearn.neighbors import KNeighborsClassifier\n",
    "knn = KNeighborsClassifier(n_neighbors=17)\n",
    "knn.fit(x_train,y_train)\n",
    "testcase2 =  pd.DataFrame({ 'Age':40, 'Experience':10, 'Income':84, 'Family':2, 'CCAvg':2,'Education':[0,1,0], 'Mortgage':0, 'Securities Account':0,'CD Account':0, 'Online':1, 'CreditCard':1})\n",
    "\n",
    "#Normalizing the data\n",
    "from sklearn.preprocessing import normalize\n",
    "testcase_norm2 = preprocessing.normalize(test_data2)\n",
    "\n",
    "testcase_norm2= pd.DataFrame(testcase_norm2)\n",
    "\n",
    "testcase_norm2.columns = ['Age', 'Experience', 'Income', 'Family', 'CCAvg', 'Education','Mortgage', 'Securities Account', 'CD Account', 'Online', 'CreditCard']\n",
    "\n",
    "#Predicting the test case2 \n",
    "test_predict2 = classifier.predict(x_train)\n",
    "print(test_predict2)"
   ]
  },
  {
   "cell_type": "code",
   "execution_count": 238,
   "id": "1a1be46c",
   "metadata": {},
   "outputs": [
    {
     "name": "stdout",
     "output_type": "stream",
     "text": [
      "Training data (2500, 12)\n",
      "Validation data (1500, 12)\n",
      "Test data (1000, 12)\n"
     ]
    }
   ],
   "source": [
    "# Splitting the data in training(50%), validation(30%),and test(20%) sets\n",
    "train_df,temp_df = train_test_split(ubdata_set2, test_size=0.5, random_state=24)\n",
    "valid_df, test_df = train_test_split(temp_df, test_size=0.4, random_state=24)\n",
    "print('Training data', train_df.shape)\n",
    "print('Validation data', valid_df.shape)\n",
    "print('Test data', test_df.shape)"
   ]
  },
  {
   "cell_type": "code",
   "execution_count": 239,
   "id": "86f82a51",
   "metadata": {},
   "outputs": [
    {
     "name": "stdout",
     "output_type": "stream",
     "text": [
      "[0 0 0 ... 0 1 0]\n"
     ]
    }
   ],
   "source": [
    "predictor =np.array(ubdata_set3.iloc[:,1:11]) \n",
    "target = np.array(ubdata_set3.Personal_Loan)\n",
    "x_train, x_validation , y_train, y_validation = train_test_split(predictor,target, test_size=0.4,random_state=24)\n",
    "print (y_train)"
   ]
  },
  {
   "cell_type": "code",
   "execution_count": 241,
   "id": "1ab2c93f",
   "metadata": {},
   "outputs": [
    {
     "data": {
      "text/plain": [
       "KNeighborsClassifier(n_neighbors=17)"
      ]
     },
     "execution_count": 241,
     "metadata": {},
     "output_type": "execute_result"
    }
   ],
   "source": [
    " # fitting the data for the best K value (17)\n",
    "classifier = KNeighborsClassifier(n_neighbors=17)\n",
    "classifier.fit(x_train, y_train)"
   ]
  },
  {
   "cell_type": "code",
   "execution_count": 257,
   "id": "414eee39",
   "metadata": {},
   "outputs": [
    {
     "name": "stdout",
     "output_type": "stream",
     "text": [
      "[[2695   22]\n",
      " [ 249   34]]\n"
     ]
    }
   ],
   "source": [
    "#Confusion Matrix for training data\n",
    "knn = classifier.predict(x_train)\n",
    "print(confusion_matrix(y_train, knn))"
   ]
  },
  {
   "cell_type": "code",
   "execution_count": null,
   "id": "81cd77e2",
   "metadata": {},
   "outputs": [],
   "source": []
  }
 ],
 "metadata": {
  "kernelspec": {
   "display_name": "Python 3 (ipykernel)",
   "language": "python",
   "name": "python3"
  },
  "language_info": {
   "codemirror_mode": {
    "name": "ipython",
    "version": 3
   },
   "file_extension": ".py",
   "mimetype": "text/x-python",
   "name": "python",
   "nbconvert_exporter": "python",
   "pygments_lexer": "ipython3",
   "version": "3.9.12"
  }
 },
 "nbformat": 4,
 "nbformat_minor": 5
}
